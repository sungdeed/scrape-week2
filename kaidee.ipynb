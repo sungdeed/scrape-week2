{
 "cells": [
  {
   "cell_type": "code",
   "execution_count": null,
   "metadata": {},
   "outputs": [],
   "source": [
    "!pip install selenium\n",
    "!pip install bs4\n"
   ]
  },
  {
   "cell_type": "code",
   "execution_count": null,
   "metadata": {},
   "outputs": [],
   "source": [
    "pip install selenium==4.2.0 --force-reinstall"
   ]
  },
  {
   "cell_type": "code",
   "execution_count": null,
   "metadata": {},
   "outputs": [],
   "source": [
    "import pandas as pd\n",
    "from selenium import webdriver\n",
    "from selenium.webdriver.firefox.options import Options\n",
    "from selenium.webdriver.common.keys import Keys\n",
    "import bs4\n",
    "import time\n",
    "import re\n",
    "from selenium.webdriver.common.by import By"
   ]
  },
  {
   "cell_type": "code",
   "execution_count": null,
   "metadata": {},
   "outputs": [],
   "source": [
    "#Open browser ด้วย Selenium\n",
    "options = Options()\n",
    "options.binary_location = r'C:\\Program Files\\Mozilla Firefox\\firefox.exe'\n",
    "driver = webdriver.Firefox(executable_path=r'C:\\Users\\sung2\\OneDrive\\เดสก์ท็อป\\sung\\dsi310\\toyota\\geckodriver.exe', options=options)\n",
    "driver.get('https://rod.kaidee.com/')"
   ]
  },
  {
   "cell_type": "code",
   "execution_count": null,
   "metadata": {},
   "outputs": [],
   "source": [
    "#Search ใน Search bar ของ kaidee\n",
    "search = driver.find_element(By.XPATH, '//*[@id=\"downshift-0-input\"]')\n",
    "search.send_keys('altis')"
   ]
  },
  {
   "cell_type": "code",
   "execution_count": null,
   "metadata": {},
   "outputs": [],
   "source": [
    "#กด Enter\n",
    "search.send_keys(Keys.ENTER)"
   ]
  },
  {
   "cell_type": "code",
   "execution_count": null,
   "metadata": {},
   "outputs": [],
   "source": [
    "data = driver.page_source #ดึงข้อมูลจากหน้าเว็บ\n",
    "soup = bs4.BeautifulSoup(data) #จัดในรูปแบบ BeautifulSoup"
   ]
  },
  {
   "cell_type": "code",
   "execution_count": null,
   "metadata": {},
   "outputs": [],
   "source": [
    "soup.select(\"#__next > div.sc-iryv2r-0.berPGS > div.sc-9zvl7c-0.ePBhBT > section > div > div.relative.overflow-hidden > div > ul\") #css selector\n"
   ]
  },
  {
   "cell_type": "code",
   "execution_count": null,
   "metadata": {},
   "outputs": [],
   "source": [
    "el=soup.select(\"#__next > div.sc-iryv2r-0.berPGS > div.sc-9zvl7c-0.ePBhBT > section > div > div.relative.overflow-hidden > div > ul\")"
   ]
  },
  {
   "cell_type": "code",
   "execution_count": null,
   "metadata": {},
   "outputs": [],
   "source": [
    "len(el)"
   ]
  },
  {
   "cell_type": "code",
   "execution_count": null,
   "metadata": {},
   "outputs": [],
   "source": [
    "#model\n",
    "e.select_one('#__next > div.sc-iryv2r-0.berPGS > div.sc-9zvl7c-0.ePBhBT > section > div > div.relative.overflow-hidden > div > ul > a:nth-child(2) > h2')"
   ]
  },
  {
   "cell_type": "code",
   "execution_count": null,
   "metadata": {},
   "outputs": [],
   "source": [
    "#FullPrice\n",
    "e.select_one(\"#__next > div.sc-iryv2r-0.berPGS > div.sc-9zvl7c-0.ePBhBT > section > div > div.relative.overflow-hidden > div > ul > a:nth-child(2) > div:nth-child(1) > div.relative.flex-1 > div.mb-sm.min-h-\\[40px\\] > div\")"
   ]
  },
  {
   "cell_type": "code",
   "execution_count": null,
   "metadata": {},
   "outputs": [],
   "source": [
    "#location\n",
    "e.select_one(\"#__next > div.sc-iryv2r-0.berPGS > div.sc-9zvl7c-0.ePBhBT > section > div > div.relative.overflow-hidden > div > ul > a:nth-child(2) > div:nth-child(1) > div.relative.flex-1 > div:nth-child(2) > div:nth-child(2) > span\")"
   ]
  },
  {
   "cell_type": "code",
   "execution_count": null,
   "metadata": {},
   "outputs": [],
   "source": [
    "#mile\n",
    "e.select_one(\"#__next > div.sc-iryv2r-0.berPGS > div.sc-9zvl7c-0.ePBhBT > section > div > div.relative.overflow-hidden > div > ul > a:nth-child(1) > div:nth-child(1) > div.relative.flex-1 > div:nth-child(2) > div:nth-child(1) > span\")"
   ]
  },
  {
   "cell_type": "code",
   "execution_count": null,
   "metadata": {},
   "outputs": [],
   "source": [
    "records=[]\n",
    "data = driver.page_source\n",
    "soup = bs4.BeautifulSoup(data)\n",
    "el=soup.select(\"._19NX8>div\")\n",
    "for e in el:\n",
    "    name = e.select_one('div.col-md-4:nth-child(1) > div:nth-child(1) > div:nth-child(2) > a:nth-child(1) > div:nth-child(2) > div:nth-child(1) > h2:nth-child(1)')\n",
    " \n",
    "    sales = e.select_one(\"div.col-md-4:nth-child(1) > div:nth-child(1) > div:nth-child(2) > a:nth-child(1) > div:nth-child(2) > div:nth-child(3) > div:nth-child(2) > h3:nth-child(1)\")\n",
    "if p == '':\n",
    "    print(1/0)\n",
    "    try:\n",
    "        sales = float(re.sub('\\D','',sales))\n",
    "    except:\n",
    "        sales = 0\n",
    "    mile = e.select_one(\"div.col-md-4:nth-child(1) > div:nth-child(1) > div:nth-child(2) > a:nth-child(1) > div:nth-child(2) > ul:nth-child(2) > li:nth-child(1)\")\n",
    "    #print(name, p)\n",
    "    records.append([name,sales,mile])\n",
    "\n",
    "records"
   ]
  },
  {
   "cell_type": "code",
   "execution_count": null,
   "metadata": {},
   "outputs": [],
   "source": [
    "en(records)"
   ]
  },
  {
   "cell_type": "code",
   "execution_count": null,
   "metadata": {},
   "outputs": [],
   "source": [
    "\n",
    "# DataFrame\n",
    "df = pd.DataFrame(records, columns=['model','full price','location', 'mile']) # ใส้ชื่อ Columns ทั้งหมด\n",
    "df"
   ]
  },
  {
   "cell_type": "code",
   "execution_count": null,
   "metadata": {},
   "outputs": [],
   "source": []
  }
 ],
 "metadata": {
  "language_info": {
   "name": "python"
  },
  "orig_nbformat": 4
 },
 "nbformat": 4,
 "nbformat_minor": 2
}
